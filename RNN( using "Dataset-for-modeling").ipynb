{
  "nbformat": 4,
  "nbformat_minor": 0,
  "metadata": {
    "colab": {
      "provenance": [],
      "mount_file_id": "1zqh2jTDMkUqkrbaASP0ko6NLtdtAuS3l",
      "authorship_tag": "ABX9TyMnQq4Sct9G1r7v2Nc2H/7R",
      "include_colab_link": true
    },
    "kernelspec": {
      "name": "python3",
      "display_name": "Python 3"
    },
    "language_info": {
      "name": "python"
    }
  },
  "cells": [
    {
      "cell_type": "markdown",
      "metadata": {
        "id": "view-in-github",
        "colab_type": "text"
      },
      "source": [
        "<a href=\"https://colab.research.google.com/github/Anisha-Tasneem/CSE499/blob/main/RNN.ipynb\" target=\"_parent\"><img src=\"https://colab.research.google.com/assets/colab-badge.svg\" alt=\"Open In Colab\"/></a>"
      ]
    },
    {
      "cell_type": "code",
      "execution_count": null,
      "metadata": {
        "colab": {
          "base_uri": "https://localhost:8080/"
        },
        "id": "2z5qg0ly2_ev",
        "outputId": "c34adcb2-0638-4cfd-f48f-ba24c637a245"
      },
      "outputs": [
        {
          "output_type": "stream",
          "name": "stdout",
          "text": [
            "X_train shape: (4000, 1, 6)\n",
            "X_test shape: (1000, 1, 6)\n",
            "y_train shape: (4000,)\n",
            "y_test shape: (1000,)\n"
          ]
        }
      ],
      "source": [
        "import numpy as np\n",
        "import pandas as pd\n",
        "from sklearn.model_selection import train_test_split\n",
        "from sklearn.preprocessing import MinMaxScaler\n",
        "\n",
        "# Load the dataset\n",
        "data = pd.read_csv('/content/drive/MyDrive/499B-datasets/DatasetNew.csv')\n",
        "\n",
        "# Drop irrelevant columns\n",
        "data = data.drop(columns=['Customer ID', 'Age', 'City Code'])\n",
        "\n",
        "# Convert categorical variables like Gender to numerical values\n",
        "data['Gender'] = data['Gender'].map({'Male': 0, 'Female': 1})\n",
        "\n",
        "# Normalize the data\n",
        "scaler = MinMaxScaler()\n",
        "data[['Product Code','Product Price (Taka)', 'Delivery Charge(Taka)','Total Bill (Taka)', 'Spending Score']] = scaler.fit_transform(data[['Product Code','Product Price (Taka)', 'Delivery Charge(Taka)', 'Total Bill (Taka)', 'Spending Score']])\n",
        "# Split data into features and target\n",
        "X = data.drop(columns=['Customer Value'])\n",
        "y = data['Customer Value']\n",
        "# Convert dataframe to numpy arrays\n",
        "X = X.to_numpy()\n",
        "y = y.to_numpy()\n",
        "\n",
        "# Split the data into training and testing sets\n",
        "X_train, X_test, y_train, y_test = train_test_split(X, y, test_size=0.2, random_state=42)\n",
        "\n",
        "# Reshape data for RNN input (samples, timesteps, features)\n",
        "X_train = X_train.reshape(X_train.shape[0], 1, X_train.shape[1])\n",
        "X_test = X_test.reshape(X_test.shape[0], 1, X_test.shape[1])\n",
        "\n",
        "# Print shapes to verify\n",
        "print(\"X_train shape:\", X_train.shape)\n",
        "print(\"X_test shape:\", X_test.shape)\n",
        "print(\"y_train shape:\", y_train.shape)\n",
        "print(\"y_test shape:\", y_test.shape)"
      ]
    },
    {
      "cell_type": "code",
      "source": [
        "import tensorflow as tf\n",
        "from tensorflow.keras.models import Sequential\n",
        "from tensorflow.keras.layers import SimpleRNN, Dense\n",
        "from sklearn.metrics import mean_absolute_error\n",
        "\n",
        "# Define the RNN model\n",
        "model = Sequential([\n",
        "    SimpleRNN(units=64, input_shape=(1, 6), activation='relu'),\n",
        "    Dense(units=1)\n",
        "])\n",
        "\n",
        "# Compile the model\n",
        "model.compile(optimizer='adam', loss='mean_squared_error')\n",
        "\n",
        "# Train the model\n",
        "history = model.fit(X_train, y_train, epochs=50, batch_size=32, validation_data=(X_test, y_test))\n",
        "\n",
        "# Predict customer values for the test set\n",
        "y_pred = model.predict(X_test)\n",
        "\n",
        "# Calculate Mean Absolute Error (MAE)\n",
        "mae = mean_absolute_error(y_test, y_pred)\n",
        "print(\"Test Accuracy:\", mae)"
      ],
      "metadata": {
        "colab": {
          "base_uri": "https://localhost:8080/"
        },
        "id": "T0FQbOde3usO",
        "outputId": "2e8bd894-79ce-4e01-b8fc-79b3769046bb"
      },
      "execution_count": null,
      "outputs": [
        {
          "output_type": "stream",
          "name": "stdout",
          "text": [
            "Epoch 1/50\n",
            "125/125 [==============================] - 1s 5ms/step - loss: 0.2414 - val_loss: 0.0488\n",
            "Epoch 2/50\n",
            "125/125 [==============================] - 0s 3ms/step - loss: 0.0375 - val_loss: 0.0321\n",
            "Epoch 3/50\n",
            "125/125 [==============================] - 0s 3ms/step - loss: 0.0232 - val_loss: 0.0179\n",
            "Epoch 4/50\n",
            "125/125 [==============================] - 0s 3ms/step - loss: 0.0120 - val_loss: 0.0095\n",
            "Epoch 5/50\n",
            "125/125 [==============================] - 0s 3ms/step - loss: 0.0062 - val_loss: 0.0051\n",
            "Epoch 6/50\n",
            "125/125 [==============================] - 0s 3ms/step - loss: 0.0035 - val_loss: 0.0031\n",
            "Epoch 7/50\n",
            "125/125 [==============================] - 0s 4ms/step - loss: 0.0024 - val_loss: 0.0024\n",
            "Epoch 8/50\n",
            "125/125 [==============================] - 1s 4ms/step - loss: 0.0019 - val_loss: 0.0019\n",
            "Epoch 9/50\n",
            "125/125 [==============================] - 1s 4ms/step - loss: 0.0016 - val_loss: 0.0019\n",
            "Epoch 10/50\n",
            "125/125 [==============================] - 0s 4ms/step - loss: 0.0015 - val_loss: 0.0016\n",
            "Epoch 11/50\n",
            "125/125 [==============================] - 1s 4ms/step - loss: 0.0014 - val_loss: 0.0016\n",
            "Epoch 12/50\n",
            "125/125 [==============================] - 0s 4ms/step - loss: 0.0014 - val_loss: 0.0015\n",
            "Epoch 13/50\n",
            "125/125 [==============================] - 1s 4ms/step - loss: 0.0013 - val_loss: 0.0014\n",
            "Epoch 14/50\n",
            "125/125 [==============================] - 0s 4ms/step - loss: 0.0013 - val_loss: 0.0017\n",
            "Epoch 15/50\n",
            "125/125 [==============================] - 0s 3ms/step - loss: 0.0013 - val_loss: 0.0013\n",
            "Epoch 16/50\n",
            "125/125 [==============================] - 0s 3ms/step - loss: 0.0013 - val_loss: 0.0013\n",
            "Epoch 17/50\n",
            "125/125 [==============================] - 0s 3ms/step - loss: 0.0012 - val_loss: 0.0012\n",
            "Epoch 18/50\n",
            "125/125 [==============================] - 0s 2ms/step - loss: 0.0011 - val_loss: 0.0012\n",
            "Epoch 19/50\n",
            "125/125 [==============================] - 0s 3ms/step - loss: 0.0011 - val_loss: 0.0012\n",
            "Epoch 20/50\n",
            "125/125 [==============================] - 0s 2ms/step - loss: 0.0011 - val_loss: 0.0011\n",
            "Epoch 21/50\n",
            "125/125 [==============================] - 0s 3ms/step - loss: 0.0011 - val_loss: 0.0012\n",
            "Epoch 22/50\n",
            "125/125 [==============================] - 0s 3ms/step - loss: 0.0010 - val_loss: 0.0011\n",
            "Epoch 23/50\n",
            "125/125 [==============================] - 0s 3ms/step - loss: 0.0010 - val_loss: 0.0010\n",
            "Epoch 24/50\n",
            "125/125 [==============================] - 0s 2ms/step - loss: 9.8780e-04 - val_loss: 9.8693e-04\n",
            "Epoch 25/50\n",
            "125/125 [==============================] - 0s 3ms/step - loss: 9.7798e-04 - val_loss: 9.4340e-04\n",
            "Epoch 26/50\n",
            "125/125 [==============================] - 0s 3ms/step - loss: 9.4011e-04 - val_loss: 9.4034e-04\n",
            "Epoch 27/50\n",
            "125/125 [==============================] - 0s 3ms/step - loss: 8.9548e-04 - val_loss: 9.0416e-04\n",
            "Epoch 28/50\n",
            "125/125 [==============================] - 0s 3ms/step - loss: 8.6226e-04 - val_loss: 9.0147e-04\n",
            "Epoch 29/50\n",
            "125/125 [==============================] - 0s 3ms/step - loss: 8.7247e-04 - val_loss: 8.6865e-04\n",
            "Epoch 30/50\n",
            "125/125 [==============================] - 0s 3ms/step - loss: 8.0927e-04 - val_loss: 9.0895e-04\n",
            "Epoch 31/50\n",
            "125/125 [==============================] - 0s 3ms/step - loss: 7.9598e-04 - val_loss: 8.1310e-04\n",
            "Epoch 32/50\n",
            "125/125 [==============================] - 0s 3ms/step - loss: 7.8508e-04 - val_loss: 7.8705e-04\n",
            "Epoch 33/50\n",
            "125/125 [==============================] - 0s 3ms/step - loss: 7.8645e-04 - val_loss: 7.4208e-04\n",
            "Epoch 34/50\n",
            "125/125 [==============================] - 0s 3ms/step - loss: 7.1546e-04 - val_loss: 7.1242e-04\n",
            "Epoch 35/50\n",
            "125/125 [==============================] - 0s 3ms/step - loss: 6.9626e-04 - val_loss: 9.6004e-04\n",
            "Epoch 36/50\n",
            "125/125 [==============================] - 0s 3ms/step - loss: 6.8971e-04 - val_loss: 6.9705e-04\n",
            "Epoch 37/50\n",
            "125/125 [==============================] - 0s 3ms/step - loss: 6.9545e-04 - val_loss: 6.5922e-04\n",
            "Epoch 38/50\n",
            "125/125 [==============================] - 0s 3ms/step - loss: 6.4892e-04 - val_loss: 6.5556e-04\n",
            "Epoch 39/50\n",
            "125/125 [==============================] - 0s 3ms/step - loss: 6.1914e-04 - val_loss: 6.3478e-04\n",
            "Epoch 40/50\n",
            "125/125 [==============================] - 0s 3ms/step - loss: 6.1482e-04 - val_loss: 6.1219e-04\n",
            "Epoch 41/50\n",
            "125/125 [==============================] - 0s 3ms/step - loss: 5.9414e-04 - val_loss: 5.7593e-04\n",
            "Epoch 42/50\n",
            "125/125 [==============================] - 0s 3ms/step - loss: 5.4360e-04 - val_loss: 5.1950e-04\n",
            "Epoch 43/50\n",
            "125/125 [==============================] - 0s 3ms/step - loss: 5.1690e-04 - val_loss: 5.0852e-04\n",
            "Epoch 44/50\n",
            "125/125 [==============================] - 1s 4ms/step - loss: 5.2048e-04 - val_loss: 4.8940e-04\n",
            "Epoch 45/50\n",
            "125/125 [==============================] - 0s 4ms/step - loss: 4.6924e-04 - val_loss: 4.5472e-04\n",
            "Epoch 46/50\n",
            "125/125 [==============================] - 1s 5ms/step - loss: 4.4146e-04 - val_loss: 5.9630e-04\n",
            "Epoch 47/50\n",
            "125/125 [==============================] - 0s 4ms/step - loss: 4.4066e-04 - val_loss: 3.9833e-04\n",
            "Epoch 48/50\n",
            "125/125 [==============================] - 0s 4ms/step - loss: 3.8674e-04 - val_loss: 5.2316e-04\n",
            "Epoch 49/50\n",
            "125/125 [==============================] - 0s 4ms/step - loss: 3.6299e-04 - val_loss: 3.5489e-04\n",
            "Epoch 50/50\n",
            "125/125 [==============================] - 1s 5ms/step - loss: 3.3246e-04 - val_loss: 3.2020e-04\n",
            "32/32 [==============================] - 0s 2ms/step\n",
            "Test Accuracy: 0.01281535293161869\n"
          ]
        }
      ]
    },
    {
      "cell_type": "code",
      "source": [
        "import tensorflow as tf\n",
        "from tensorflow.keras.models import Model\n",
        "from tensorflow.keras.layers import Input, SimpleRNN, Dense\n",
        "\n",
        "# Define input and output sequence lengths\n",
        "input_seq_length = 10\n",
        "output_seq_length = 10\n",
        "input_dim = 4  # Number of features for each element in the input sequence\n",
        "output_dim = 4  # Number of features for each element in the output sequence\n",
        "\n",
        "# Define the encoder\n",
        "encoder_input = Input(shape=(input_seq_length, input_dim))\n",
        "encoder_rnn = SimpleRNN(units=64, return_state=True)\n",
        "encoder_outputs, encoder_state = encoder_rnn(encoder_input)\n",
        "\n",
        "# Define the decoder\n",
        "decoder_input = Input(shape=(output_seq_length, output_dim))\n",
        "decoder_rnn = SimpleRNN(units=64, return_sequences=True)\n",
        "decoder_outputs = decoder_rnn(decoder_input, initial_state=encoder_state)\n",
        "decoder_dense = Dense(output_dim, activation='softmax')\n",
        "decoder_outputs = decoder_dense(decoder_outputs)\n",
        "\n",
        "# Define the model\n",
        "model = Model([encoder_input, decoder_input], decoder_outputs)\n",
        "\n",
        "# Compile the model\n",
        "model.compile(optimizer='adam', loss='categorical_crossentropy')\n",
        "\n",
        "# Print model summary\n",
        "model.summary()"
      ],
      "metadata": {
        "colab": {
          "base_uri": "https://localhost:8080/"
        },
        "id": "j29fO_WP7_56",
        "outputId": "7ecd6ea8-030b-4917-e1ee-8bc06ab5a119"
      },
      "execution_count": null,
      "outputs": [
        {
          "output_type": "stream",
          "name": "stdout",
          "text": [
            "Model: \"model\"\n",
            "__________________________________________________________________________________________________\n",
            " Layer (type)                Output Shape                 Param #   Connected to                  \n",
            "==================================================================================================\n",
            " input_1 (InputLayer)        [(None, 10, 4)]              0         []                            \n",
            "                                                                                                  \n",
            " input_2 (InputLayer)        [(None, 10, 4)]              0         []                            \n",
            "                                                                                                  \n",
            " simple_rnn_7 (SimpleRNN)    [(None, 64),                 4416      ['input_1[0][0]']             \n",
            "                              (None, 64)]                                                         \n",
            "                                                                                                  \n",
            " simple_rnn_8 (SimpleRNN)    (None, 10, 64)               4416      ['input_2[0][0]',             \n",
            "                                                                     'simple_rnn_7[0][1]']        \n",
            "                                                                                                  \n",
            " dense_7 (Dense)             (None, 10, 4)                260       ['simple_rnn_8[0][0]']        \n",
            "                                                                                                  \n",
            "==================================================================================================\n",
            "Total params: 9092 (35.52 KB)\n",
            "Trainable params: 9092 (35.52 KB)\n",
            "Non-trainable params: 0 (0.00 Byte)\n",
            "__________________________________________________________________________________________________\n"
          ]
        }
      ]
    },
    {
      "cell_type": "code",
      "source": [
        "from sklearn.metrics import classification_report\n",
        "\n",
        "# Binarize predictions and true values\n",
        "threshold = 0.5  # Adjust as needed\n",
        "\n",
        "x_pred_binary = (y_pred > threshold).astype(int)\n",
        "x_test_binary = (y_test > threshold).astype(int)\n",
        "\n",
        "y_pred_binary = (y_pred > threshold).astype(int)\n",
        "y_test_binary = (y_test > threshold).astype(int)\n",
        "\n",
        "# Print classification report\n",
        "print(classification_report(y_test_binary, y_pred_binary))"
      ],
      "metadata": {
        "colab": {
          "base_uri": "https://localhost:8080/"
        },
        "id": "CaNmfCxYePoI",
        "outputId": "230582f0-5b86-4ee1-b14f-e756c48bb526"
      },
      "execution_count": null,
      "outputs": [
        {
          "output_type": "stream",
          "name": "stdout",
          "text": [
            "              precision    recall  f1-score   support\n",
            "\n",
            "           0       1.00      1.00      1.00       520\n",
            "           1       1.00      1.00      1.00       480\n",
            "\n",
            "    accuracy                           1.00      1000\n",
            "   macro avg       1.00      1.00      1.00      1000\n",
            "weighted avg       1.00      1.00      1.00      1000\n",
            "\n"
          ]
        }
      ]
    },
    {
      "cell_type": "code",
      "source": [
        "from sklearn.metrics import confusion_matrix\n",
        "import seaborn as sns\n",
        "import matplotlib.pyplot as plt\n",
        "\n",
        "# Define the number of bins\n",
        "num_bins = 10\n",
        "\n",
        "# Create bins based on the range of values\n",
        "bin_edges = np.linspace(min(y_test.min(), y_pred.min()), max(y_test.max(), y_pred.max()), num_bins + 1)\n",
        "\n",
        "# Digitize predictions and true values based on the bin edges\n",
        "y_pred_bins = np.digitize(y_pred, bin_edges)\n",
        "y_test_bins = np.digitize(y_test, bin_edges)\n",
        "\n",
        "# Compute confusion matrix\n",
        "conf_matrix = confusion_matrix(y_test_bins, y_pred_bins)\n",
        "\n",
        "# Plot confusion matrix\n",
        "plt.figure(figsize=(10, 8))\n",
        "sns.heatmap(conf_matrix, annot=True, fmt='d', cmap='Blues', cbar=False)\n",
        "plt.xlabel('Predicted')\n",
        "plt.ylabel('True')\n",
        "plt.title('Confusion Matrix')\n",
        "plt.show()"
      ],
      "metadata": {
        "colab": {
          "base_uri": "https://localhost:8080/",
          "height": 718
        },
        "id": "Z-miggdQeq2e",
        "outputId": "250e07ce-57d1-4ee1-9c54-d0dbc96e08e3"
      },
      "execution_count": null,
      "outputs": [
        {
          "output_type": "display_data",
          "data": {
            "text/plain": [
              "<Figure size 1000x800 with 1 Axes>"
            ],
            "image/png": "[encoded data removed]"
          },
          "metadata": {}
        }
      ]
    },
    {
      "cell_type": "code",
      "source": [
        "# Check if history is not None\n",
        "if history is not None:\n",
        "    # Extract training loss and validation loss from the history object\n",
        "    train_loss = history.history['loss']\n",
        "    val_loss = history.history['val_loss']\n",
        "\n",
        "    # Create a plot\n",
        "    plt.figure(figsize=(10, 6))\n",
        "\n",
        "    # Plot training and validation loss\n",
        "    plt.plot(train_loss, label='Training Loss', color='blue')\n",
        "    plt.plot(val_loss, label='Validation Loss', color='red')\n",
        "\n",
        "    # Add title and labels\n",
        "    plt.title('Training and Validation Loss')\n",
        "    plt.xlabel('Epochs')\n",
        "    plt.ylabel('Loss')\n",
        "\n",
        "    # Add legend\n",
        "    plt.legend()\n",
        "\n",
        "    # Show plot\n",
        "    plt.show()\n",
        "else:\n",
        "    print(\"Training history is not available.\")"
      ],
      "metadata": {
        "colab": {
          "base_uri": "https://localhost:8080/",
          "height": 564
        },
        "id": "5f3O2XRQk8vY",
        "outputId": "83ac8c76-b365-4997-d642-96dcfcee1a02"
      },
      "execution_count": null,
      "outputs": [
        {
          "output_type": "display_data",
          "data": {
            "text/plain": [
              "<Figure size 1000x600 with 1 Axes>"
            ],
            "image/png": "[encoded data removed]"
          },
          "metadata": {}
        }
      ]
    }
  ]
}
