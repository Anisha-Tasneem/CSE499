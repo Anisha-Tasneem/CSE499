{
  "nbformat": 4,
  "nbformat_minor": 0,
  "metadata": {
    "colab": {
      "provenance": [],
      "mount_file_id": "1N8kOVnCT_hy8IXhgp7hR70pyOwf7h0Q3",
      "authorship_tag": "ABX9TyOKQutPjP9JV8zvK1MQhUwB",
      "include_colab_link": true
    },
    "kernelspec": {
      "name": "python3",
      "display_name": "Python 3"
    },
    "language_info": {
      "name": "python"
    }
  },
  "cells": [
    {
      "cell_type": "markdown",
      "metadata": {
        "id": "view-in-github",
        "colab_type": "text"
      },
      "source": [
        "<a href=\"https://colab.research.google.com/github/Anisha-Tasneem/CSE499/blob/main/499RNN.ipynb\" target=\"_parent\"><img src=\"https://colab.research.google.com/assets/colab-badge.svg\" alt=\"Open In Colab\"/></a>"
      ]
    },
    {
      "cell_type": "code",
      "source": [
        "import numpy as np\n",
        "import pandas as pd\n",
        "from sklearn.model_selection import train_test_split\n",
        "from sklearn.preprocessing import MinMaxScaler\n",
        "\n",
        "# Load the dataset\n",
        "data = pd.read_csv('/content/drive/MyDrive/CSE499/Dataset.csv')\n",
        "\n",
        "# Drop irrelevant columns like Customer ID, City Code, Product Code\n",
        "data = data.drop(columns=['Customer ID', 'City Code', 'Product Code'])\n",
        "\n",
        "# Convert categorical variables like Gender to numerical values\n",
        "data['Gender'] = data['Gender'].map({'Male': 0, 'Female': 1})\n",
        "\n",
        "# Normalize the data\n",
        "scaler = MinMaxScaler()\n",
        "data[['Age', 'Total Bill (Taka)', 'Customer Value']] = scaler.fit_transform(data[['Age', 'Total Bill (Taka)', 'Customer Value']])\n",
        "\n",
        "# Split data into features and target\n",
        "X = data.drop(columns=['Customer Value'])\n",
        "y = data['Customer Value']\n",
        "\n",
        "# Convert dataframe to numpy arrays\n",
        "X = X.to_numpy()\n",
        "y = y.to_numpy()\n",
        "\n",
        "# Split the data into training and testing sets\n",
        "X_train, X_test, y_train, y_test = train_test_split(X, y, test_size=0.2, random_state=42)\n",
        "\n",
        "# Reshape data for RNN input (samples, timesteps, features)\n",
        "X_train = X_train.reshape(X_train.shape[0], 1, X_train.shape[1])\n",
        "X_test = X_test.reshape(X_test.shape[0], 1, X_test.shape[1])\n",
        "\n",
        "# Print shapes to verify\n",
        "print(\"X_train shape:\", X_train.shape)\n",
        "print(\"X_test shape:\", X_test.shape)\n",
        "print(\"y_train shape:\", y_train.shape)\n",
        "print(\"y_test shape:\", y_test.shape)\n"
      ],
      "metadata": {
        "colab": {
          "base_uri": "https://localhost:8080/"
        },
        "id": "Z4-IMmhxkp5p",
        "outputId": "722a525a-c8a1-42da-8f1a-72f41692b349"
      },
      "execution_count": 41,
      "outputs": [
        {
          "output_type": "stream",
          "name": "stdout",
          "text": [
            "X_train shape: (4000, 1, 3)\n",
            "X_test shape: (1000, 1, 3)\n",
            "y_train shape: (4000,)\n",
            "y_test shape: (1000,)\n"
          ]
        }
      ]
    },
    {
      "cell_type": "code",
      "source": [
        "import tensorflow as tf\n",
        "from tensorflow.keras.models import Sequential\n",
        "from tensorflow.keras.layers import SimpleRNN, Dense\n",
        "from sklearn.metrics import mean_absolute_error\n",
        "\n",
        "# Define the RNN model\n",
        "model = Sequential([\n",
        "    SimpleRNN(units=64, input_shape=(1, 3), activation='relu'),\n",
        "    Dense(units=1)\n",
        "])\n",
        "\n",
        "# Compile the model\n",
        "model.compile(optimizer='adam', loss='mean_squared_error')\n",
        "\n",
        "# Train the model\n",
        "history = model.fit(X_train, y_train, epochs=50, batch_size=32, validation_data=(X_test, y_test))\n",
        "\n",
        "# Predict customer values for the test set\n",
        "y_pred = model.predict(X_test)\n",
        "\n",
        "# Calculate Mean Absolute Error (MAE)\n",
        "mae = mean_absolute_error(y_test, y_pred)\n",
        "print(\"Test Accuracy:\", mae)"
      ],
      "metadata": {
        "colab": {
          "base_uri": "https://localhost:8080/"
        },
        "id": "YOfqK1-rrHWw",
        "outputId": "dd17a0f4-c4f2-4d8d-daa3-e7ca0e3f1757"
      },
      "execution_count": 42,
      "outputs": [
        {
          "output_type": "stream",
          "name": "stdout",
          "text": [
            "Epoch 1/50\n",
            "125/125 [==============================] - 3s 5ms/step - loss: 0.2485 - val_loss: 0.2155\n",
            "Epoch 2/50\n",
            "125/125 [==============================] - 0s 3ms/step - loss: 0.2142 - val_loss: 0.2140\n",
            "Epoch 3/50\n",
            "125/125 [==============================] - 0s 3ms/step - loss: 0.2139 - val_loss: 0.2141\n",
            "Epoch 4/50\n",
            "125/125 [==============================] - 0s 3ms/step - loss: 0.2133 - val_loss: 0.2139\n",
            "Epoch 5/50\n",
            "125/125 [==============================] - 0s 3ms/step - loss: 0.2134 - val_loss: 0.2140\n",
            "Epoch 6/50\n",
            "125/125 [==============================] - 0s 3ms/step - loss: 0.2134 - val_loss: 0.2138\n",
            "Epoch 7/50\n",
            "125/125 [==============================] - 0s 3ms/step - loss: 0.2136 - val_loss: 0.2146\n",
            "Epoch 8/50\n",
            "125/125 [==============================] - 0s 3ms/step - loss: 0.2134 - val_loss: 0.2136\n",
            "Epoch 9/50\n",
            "125/125 [==============================] - 0s 3ms/step - loss: 0.2129 - val_loss: 0.2147\n",
            "Epoch 10/50\n",
            "125/125 [==============================] - 1s 4ms/step - loss: 0.2132 - val_loss: 0.2137\n",
            "Epoch 11/50\n",
            "125/125 [==============================] - 1s 5ms/step - loss: 0.2131 - val_loss: 0.2133\n",
            "Epoch 12/50\n",
            "125/125 [==============================] - 1s 5ms/step - loss: 0.2128 - val_loss: 0.2157\n",
            "Epoch 13/50\n",
            "125/125 [==============================] - 1s 5ms/step - loss: 0.2131 - val_loss: 0.2133\n",
            "Epoch 14/50\n",
            "125/125 [==============================] - 1s 4ms/step - loss: 0.2127 - val_loss: 0.2135\n",
            "Epoch 15/50\n",
            "125/125 [==============================] - 1s 5ms/step - loss: 0.2128 - val_loss: 0.2129\n",
            "Epoch 16/50\n",
            "125/125 [==============================] - 1s 5ms/step - loss: 0.2131 - val_loss: 0.2135\n",
            "Epoch 17/50\n",
            "125/125 [==============================] - 0s 3ms/step - loss: 0.2127 - val_loss: 0.2138\n",
            "Epoch 18/50\n",
            "125/125 [==============================] - 0s 3ms/step - loss: 0.2129 - val_loss: 0.2135\n",
            "Epoch 19/50\n",
            "125/125 [==============================] - 0s 3ms/step - loss: 0.2132 - val_loss: 0.2152\n",
            "Epoch 20/50\n",
            "125/125 [==============================] - 0s 3ms/step - loss: 0.2130 - val_loss: 0.2143\n",
            "Epoch 21/50\n",
            "125/125 [==============================] - 0s 3ms/step - loss: 0.2134 - val_loss: 0.2133\n",
            "Epoch 22/50\n",
            "125/125 [==============================] - 0s 3ms/step - loss: 0.2130 - val_loss: 0.2140\n",
            "Epoch 23/50\n",
            "125/125 [==============================] - 0s 3ms/step - loss: 0.2126 - val_loss: 0.2131\n",
            "Epoch 24/50\n",
            "125/125 [==============================] - 0s 3ms/step - loss: 0.2134 - val_loss: 0.2134\n",
            "Epoch 25/50\n",
            "125/125 [==============================] - 0s 3ms/step - loss: 0.2128 - val_loss: 0.2131\n",
            "Epoch 26/50\n",
            "125/125 [==============================] - 0s 3ms/step - loss: 0.2129 - val_loss: 0.2138\n",
            "Epoch 27/50\n",
            "125/125 [==============================] - 0s 3ms/step - loss: 0.2127 - val_loss: 0.2142\n",
            "Epoch 28/50\n",
            "125/125 [==============================] - 0s 3ms/step - loss: 0.2126 - val_loss: 0.2132\n",
            "Epoch 29/50\n",
            "125/125 [==============================] - 0s 3ms/step - loss: 0.2129 - val_loss: 0.2143\n",
            "Epoch 30/50\n",
            "125/125 [==============================] - 0s 3ms/step - loss: 0.2138 - val_loss: 0.2157\n",
            "Epoch 31/50\n",
            "125/125 [==============================] - 0s 3ms/step - loss: 0.2131 - val_loss: 0.2130\n",
            "Epoch 32/50\n",
            "125/125 [==============================] - 0s 3ms/step - loss: 0.2128 - val_loss: 0.2132\n",
            "Epoch 33/50\n",
            "125/125 [==============================] - 0s 3ms/step - loss: 0.2131 - val_loss: 0.2137\n",
            "Epoch 34/50\n",
            "125/125 [==============================] - 0s 3ms/step - loss: 0.2133 - val_loss: 0.2137\n",
            "Epoch 35/50\n",
            "125/125 [==============================] - 0s 4ms/step - loss: 0.2130 - val_loss: 0.2138\n",
            "Epoch 36/50\n",
            "125/125 [==============================] - 0s 3ms/step - loss: 0.2125 - val_loss: 0.2145\n",
            "Epoch 37/50\n",
            "125/125 [==============================] - 0s 3ms/step - loss: 0.2128 - val_loss: 0.2146\n",
            "Epoch 38/50\n",
            "125/125 [==============================] - 0s 3ms/step - loss: 0.2128 - val_loss: 0.2133\n",
            "Epoch 39/50\n",
            "125/125 [==============================] - 0s 3ms/step - loss: 0.2126 - val_loss: 0.2141\n",
            "Epoch 40/50\n",
            "125/125 [==============================] - 0s 3ms/step - loss: 0.2129 - val_loss: 0.2143\n",
            "Epoch 41/50\n",
            "125/125 [==============================] - 0s 3ms/step - loss: 0.2131 - val_loss: 0.2135\n",
            "Epoch 42/50\n",
            "125/125 [==============================] - 0s 4ms/step - loss: 0.2126 - val_loss: 0.2131\n",
            "Epoch 43/50\n",
            "125/125 [==============================] - 1s 5ms/step - loss: 0.2128 - val_loss: 0.2136\n",
            "Epoch 44/50\n",
            "125/125 [==============================] - 1s 5ms/step - loss: 0.2132 - val_loss: 0.2135\n",
            "Epoch 45/50\n",
            "125/125 [==============================] - 1s 5ms/step - loss: 0.2128 - val_loss: 0.2140\n",
            "Epoch 46/50\n",
            "125/125 [==============================] - 1s 5ms/step - loss: 0.2125 - val_loss: 0.2132\n",
            "Epoch 47/50\n",
            "125/125 [==============================] - 1s 5ms/step - loss: 0.2128 - val_loss: 0.2129\n",
            "Epoch 48/50\n",
            "125/125 [==============================] - 1s 4ms/step - loss: 0.2128 - val_loss: 0.2131\n",
            "Epoch 49/50\n",
            "125/125 [==============================] - 0s 3ms/step - loss: 0.2125 - val_loss: 0.2135\n",
            "Epoch 50/50\n",
            "125/125 [==============================] - 0s 3ms/step - loss: 0.2130 - val_loss: 0.2134\n",
            "32/32 [==============================] - 0s 2ms/step\n",
            "Test Accuracy: 0.41761047890782355\n"
          ]
        }
      ]
    },
    {
      "cell_type": "code",
      "source": [
        "# Define a function to calculate percentage of predictions within a threshold\n",
        "def percentage_within_threshold(y_true, y_pred, threshold):\n",
        "    error = np.abs(y_true - y_pred)\n",
        "    within_threshold = np.sum(error <= threshold)\n",
        "    total_samples = len(y_true)\n",
        "    percentage = (within_threshold / total_samples) * 100\n",
        "    return percentage\n",
        "\n",
        "# Calculate the percentage of predictions within a threshold (e.g., 10% error)\n",
        "threshold = 0.1  # Adjust the threshold as needed\n",
        "percentage_within_threshold = percentage_within_threshold(y_test, y_pred, threshold)\n",
        "print(f\"Percentage of predictions within {threshold * 100}% error:\", percentage_within_threshold)\n"
      ],
      "metadata": {
        "colab": {
          "base_uri": "https://localhost:8080/"
        },
        "id": "RH29GujimQHN",
        "outputId": "829810ec-7589-4d42-92b4-1464162c2aff"
      },
      "execution_count": 43,
      "outputs": [
        {
          "output_type": "stream",
          "name": "stdout",
          "text": [
            "Percentage of predictions within 10.0% error: 0.0\n"
          ]
        }
      ]
    },
    {
      "cell_type": "code",
      "source": [
        "from sklearn.metrics import classification_report\n",
        "\n",
        "# Binarize predictions and true values\n",
        "threshold = 0.5  # Adjust as needed\n",
        "y_pred_binary = (y_pred > threshold).astype(int)\n",
        "y_test_binary = (y_test > threshold).astype(int)\n",
        "\n",
        "# Print classification report\n",
        "print(classification_report(y_test_binary, y_pred_binary))"
      ],
      "metadata": {
        "colab": {
          "base_uri": "https://localhost:8080/"
        },
        "id": "GMuqdudwsmjF",
        "outputId": "4c74a20b-d815-4012-99cb-da2e5b00af12"
      },
      "execution_count": 45,
      "outputs": [
        {
          "output_type": "stream",
          "name": "stdout",
          "text": [
            "              precision    recall  f1-score   support\n",
            "\n",
            "           0       0.69      1.00      0.82       690\n",
            "           1       0.00      0.00      0.00       310\n",
            "\n",
            "    accuracy                           0.69      1000\n",
            "   macro avg       0.34      0.50      0.41      1000\n",
            "weighted avg       0.48      0.69      0.56      1000\n",
            "\n"
          ]
        },
        {
          "output_type": "stream",
          "name": "stderr",
          "text": [
            "/usr/local/lib/python3.10/dist-packages/sklearn/metrics/_classification.py:1344: UndefinedMetricWarning: Precision and F-score are ill-defined and being set to 0.0 in labels with no predicted samples. Use `zero_division` parameter to control this behavior.\n",
            "  _warn_prf(average, modifier, msg_start, len(result))\n",
            "/usr/local/lib/python3.10/dist-packages/sklearn/metrics/_classification.py:1344: UndefinedMetricWarning: Precision and F-score are ill-defined and being set to 0.0 in labels with no predicted samples. Use `zero_division` parameter to control this behavior.\n",
            "  _warn_prf(average, modifier, msg_start, len(result))\n",
            "/usr/local/lib/python3.10/dist-packages/sklearn/metrics/_classification.py:1344: UndefinedMetricWarning: Precision and F-score are ill-defined and being set to 0.0 in labels with no predicted samples. Use `zero_division` parameter to control this behavior.\n",
            "  _warn_prf(average, modifier, msg_start, len(result))\n"
          ]
        }
      ]
    },
    {
      "cell_type": "code",
      "source": [
        "import numpy as np\n",
        "\n",
        "# Define the number of bins\n",
        "num_bins = 10\n",
        "\n",
        "# Create bins based on the range of values\n",
        "bin_edges = np.linspace(min(y_test.min(), y_pred.min()), max(y_test.max(), y_pred.max()), num_bins + 1)\n",
        "\n",
        "# Digitize predictions and true values based on the bin edges\n",
        "y_pred_bins = np.digitize(y_pred, bin_edges)\n",
        "y_test_bins = np.digitize(y_test, bin_edges)\n",
        "\n",
        "# Initialize confusion matrix\n",
        "confusion_matrix = np.zeros((num_bins, num_bins), dtype=int)\n",
        "\n",
        "# Populate confusion matrix\n",
        "for i in range(len(y_pred_bins)):\n",
        "    pred_bin = y_pred_bins[i]  # Adjusting index to start from 0\n",
        "    true_bin = y_test_bins[i]  # Adjusting index to start from 0\n",
        "    confusion_matrix[true_bin][pred_bin] += 1\n",
        "\n",
        "# Print confusion matrix\n",
        "print(\"Confusion Matrix:\")\n",
        "print(confusion_matrix)"
      ],
      "metadata": {
        "colab": {
          "base_uri": "https://localhost:8080/",
          "height": 211
        },
        "id": "O-quuI7Ys7wR",
        "outputId": "b1ee76c7-5054-4a7d-fd28-81e730b6387d"
      },
      "execution_count": 48,
      "outputs": [
        {
          "output_type": "error",
          "ename": "IndexError",
          "evalue": "index 11 is out of bounds for axis 0 with size 10",
          "traceback": [
            "\u001b[0;31m---------------------------------------------------------------------------\u001b[0m",
            "\u001b[0;31mIndexError\u001b[0m                                Traceback (most recent call last)",
            "\u001b[0;32m<ipython-input-48-f2ac8d701015>\u001b[0m in \u001b[0;36m<cell line: 17>\u001b[0;34m()\u001b[0m\n\u001b[1;32m     18\u001b[0m     \u001b[0mpred_bin\u001b[0m \u001b[0;34m=\u001b[0m \u001b[0my_pred_bins\u001b[0m\u001b[0;34m[\u001b[0m\u001b[0mi\u001b[0m\u001b[0;34m]\u001b[0m  \u001b[0;31m# Adjusting index to start from 0\u001b[0m\u001b[0;34m\u001b[0m\u001b[0;34m\u001b[0m\u001b[0m\n\u001b[1;32m     19\u001b[0m     \u001b[0mtrue_bin\u001b[0m \u001b[0;34m=\u001b[0m \u001b[0my_test_bins\u001b[0m\u001b[0;34m[\u001b[0m\u001b[0mi\u001b[0m\u001b[0;34m]\u001b[0m  \u001b[0;31m# Adjusting index to start from 0\u001b[0m\u001b[0;34m\u001b[0m\u001b[0;34m\u001b[0m\u001b[0m\n\u001b[0;32m---> 20\u001b[0;31m     \u001b[0mconfusion_matrix\u001b[0m\u001b[0;34m[\u001b[0m\u001b[0mtrue_bin\u001b[0m\u001b[0;34m]\u001b[0m\u001b[0;34m[\u001b[0m\u001b[0mpred_bin\u001b[0m\u001b[0;34m]\u001b[0m \u001b[0;34m+=\u001b[0m \u001b[0;36m1\u001b[0m\u001b[0;34m\u001b[0m\u001b[0;34m\u001b[0m\u001b[0m\n\u001b[0m\u001b[1;32m     21\u001b[0m \u001b[0;34m\u001b[0m\u001b[0m\n\u001b[1;32m     22\u001b[0m \u001b[0;31m# Print confusion matrix\u001b[0m\u001b[0;34m\u001b[0m\u001b[0;34m\u001b[0m\u001b[0m\n",
            "\u001b[0;31mIndexError\u001b[0m: index 11 is out of bounds for axis 0 with size 10"
          ]
        }
      ]
    },
    {
      "cell_type": "code",
      "source": [
        "from sklearn.metrics import confusion_matrix\n",
        "import seaborn as sns\n",
        "import matplotlib.pyplot as plt\n",
        "\n",
        "# Define the number of bins\n",
        "num_bins = 10\n",
        "\n",
        "# Create bins based on the range of values\n",
        "bin_edges = np.linspace(min(y_test.min(), y_pred.min()), max(y_test.max(), y_pred.max()), num_bins + 1)\n",
        "\n",
        "# Digitize predictions and true values based on the bin edges\n",
        "y_pred_bins = np.digitize(y_pred, bin_edges)\n",
        "y_test_bins = np.digitize(y_test, bin_edges)\n",
        "\n",
        "# Compute confusion matrix\n",
        "conf_matrix = confusion_matrix(y_test_bins, y_pred_bins)\n",
        "\n",
        "# Plot confusion matrix\n",
        "plt.figure(figsize=(10, 8))\n",
        "sns.heatmap(conf_matrix, annot=True, fmt='d', cmap='Blues', cbar=False)\n",
        "plt.xlabel('Predicted')\n",
        "plt.ylabel('True')\n",
        "plt.title('Confusion Matrix')\n",
        "plt.show()"
      ],
      "metadata": {
        "colab": {
          "base_uri": "https://localhost:8080/",
          "height": 718
        },
        "id": "fMGf40PxuXxj",
        "outputId": "635883cc-9426-4853-fea5-4d674c3a09fe"
      },
      "execution_count": 52,
      "outputs": [
        {
          "output_type": "display_data",
          "data": {
            "text/plain": [
              "<Figure size 1000x800 with 1 Axes>"
            ],
            "image/png": "[encoded data removed]"
          },
          "metadata": {}
        }
      ]
    },
    {
      "cell_type": "code",
      "source": [
        "# Check if history is not None\n",
        "if history is not None:\n",
        "    # Extract training loss and validation loss from the history object\n",
        "    train_loss = history.history['loss']\n",
        "    val_loss = history.history['val_loss']\n",
        "\n",
        "    # Create a plot\n",
        "    plt.figure(figsize=(10, 6))\n",
        "\n",
        "    # Plot training and validation loss\n",
        "    plt.plot(train_loss, label='Training Loss', color='blue')\n",
        "    plt.plot(val_loss, label='Validation Loss', color='red')\n",
        "\n",
        "    # Add title and labels\n",
        "    plt.title('Training and Validation Loss')\n",
        "    plt.xlabel('Epochs')\n",
        "    plt.ylabel('Loss')\n",
        "\n",
        "    # Add legend\n",
        "    plt.legend()\n",
        "\n",
        "    # Show plot\n",
        "    plt.show()\n",
        "else:\n",
        "    print(\"Training history is not available.\")"
      ],
      "metadata": {
        "colab": {
          "base_uri": "https://localhost:8080/",
          "height": 564
        },
        "id": "7PKc2je4rYqb",
        "outputId": "d6d8f35a-e9ca-42ee-9979-d92aeed3e50a"
      },
      "execution_count": 53,
      "outputs": [
        {
          "output_type": "display_data",
          "data": {
            "text/plain": [
              "<Figure size 1000x600 with 1 Axes>"
            ],
            "image/png": "[encoded data removed]"
          },
          "metadata": {}
        }
      ]
    },
    {
      "cell_type": "code",
      "source": [
        "model.summary()"
      ],
      "metadata": {
        "colab": {
          "base_uri": "https://localhost:8080/"
        },
        "id": "jtPICnSSupu5",
        "outputId": "fa5934b2-60e8-4d3c-c351-b50e2a4fef3a"
      },
      "execution_count": 54,
      "outputs": [
        {
          "output_type": "stream",
          "name": "stdout",
          "text": [
            "Model: \"sequential_12\"\n",
            "_________________________________________________________________\n",
            " Layer (type)                Output Shape              Param #   \n",
            "=================================================================\n",
            " simple_rnn_12 (SimpleRNN)   (None, 64)                4352      \n",
            "                                                                 \n",
            " dense_12 (Dense)            (None, 1)                 65        \n",
            "                                                                 \n",
            "=================================================================\n",
            "Total params: 4417 (17.25 KB)\n",
            "Trainable params: 4417 (17.25 KB)\n",
            "Non-trainable params: 0 (0.00 Byte)\n",
            "_________________________________________________________________\n"
          ]
        }
      ]
    }
  ]
}